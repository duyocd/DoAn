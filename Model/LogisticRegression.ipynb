{
 "cells": [
  {
   "cell_type": "code",
   "execution_count": 1,
   "metadata": {
    "colab": {
     "base_uri": "https://localhost:8080/",
     "height": 383
    },
    "id": "HTwlpqijazyB",
    "outputId": "d92d1ac7-57f8-4911-a71b-705f6761ddd1"
   },
   "outputs": [
    {
     "name": "stderr",
     "output_type": "stream",
     "text": [
      "[nltk_data] Downloading package stopwords to\n",
      "[nltk_data]     C:\\Users\\DELL\\AppData\\Roaming\\nltk_data...\n",
      "[nltk_data]   Package stopwords is already up-to-date!\n",
      "[nltk_data] Downloading package punkt to\n",
      "[nltk_data]     C:\\Users\\DELL\\AppData\\Roaming\\nltk_data...\n",
      "[nltk_data]   Package punkt is already up-to-date!\n"
     ]
    }
   ],
   "source": [
    "import re\n",
    "import pandas as pd\n",
    "import seaborn as sns\n",
    "import matplotlib.pyplot as plt\n",
    "import nltk\n",
    "import findspark\n",
    "findspark.init()\n",
    "from nltk.corpus import stopwords\n",
    "from pyspark.sql import SparkSession\n",
    "from pyspark.sql.functions import udf, pandas_udf,col, lower, regexp_replace\n",
    "from pyspark.sql.types import StructType, StructField, IntegerType, StringType, ArrayType\n",
    "from pyspark.ml.feature import CountVectorizer, StringIndexer, Tokenizer, StopWordsRemover\n",
    "from pyspark.ml.classification import LogisticRegression, RandomForestClassifier, DecisionTreeClassifier\n",
    "from pyspark.ml.evaluation import MulticlassClassificationEvaluator\n",
    "from pyspark.mllib.evaluation import MulticlassMetrics\n",
    "from sklearn.metrics import confusion_matrix\n",
    "from pyspark.ml import PipelineModel, Pipeline, Transformer\n",
    "from pyspark.ml.param.shared import HasInputCol, HasOutputCol, Param\n",
    "from pyspark.ml.util import DefaultParamsWritable, DefaultParamsReadable\n",
    "from pyspark.ml.tuning import ParamGridBuilder, CrossValidator\n",
    "\n",
    "nltk.download('stopwords')\n",
    "nltk.download('punkt')\n",
    "\n",
    "# Define English stopwords\n",
    "stop_words = stopwords.words('english')"
   ]
  },
  {
   "cell_type": "code",
   "execution_count": 2,
   "metadata": {
    "id": "czWR6CRqbl3j"
   },
   "outputs": [],
   "source": [
    "# Create a SparkSession\n",
    "spark = SparkSession.builder \\\n",
    "    .appName(\"Text Classification with PySpark\") \\\n",
    "    .getOrCreate()"
   ]
  },
  {
   "cell_type": "code",
   "execution_count": 3,
   "metadata": {},
   "outputs": [],
   "source": [
    "# Load the data\n",
    "data = spark.read.csv('twitter_training.csv', header=False, inferSchema=True)\n",
    "validation = spark.read.csv('twitter_validation.csv', header=False, inferSchema=True)"
   ]
  },
  {
   "cell_type": "code",
   "execution_count": 4,
   "metadata": {},
   "outputs": [],
   "source": [
    "# Define column names\n",
    "columns = ['id', 'Company', 'Label', 'Text']\n",
    "\n",
    "# Rename columns\n",
    "for i, col in enumerate(columns):\n",
    "    data = data.withColumnRenamed('_c{}'.format(i), col)\n",
    "    validation = validation.withColumnRenamed('_c{}'.format(i), col)"
   ]
  },
  {
   "cell_type": "code",
   "execution_count": 5,
   "metadata": {},
   "outputs": [
    {
     "name": "stdout",
     "output_type": "stream",
     "text": [
      "root\n",
      " |-- id: integer (nullable = true)\n",
      " |-- Company: string (nullable = true)\n",
      " |-- Label: string (nullable = true)\n",
      " |-- Text: string (nullable = true)\n",
      "\n"
     ]
    }
   ],
   "source": [
    "data.printSchema()"
   ]
  },
  {
   "cell_type": "code",
   "execution_count": 6,
   "metadata": {},
   "outputs": [],
   "source": [
    "# Drop rows with empty 'Text' column\n",
    "data = data.dropna(subset=['Text'])\n",
    "validation = validation.dropna(subset=['Text'])"
   ]
  },
  {
   "cell_type": "code",
   "execution_count": 7,
   "metadata": {},
   "outputs": [
    {
     "name": "stdout",
     "output_type": "stream",
     "text": [
      "+--------------------+\n",
      "|                Text|\n",
      "+--------------------+\n",
      "|im getting on bor...|\n",
      "|I am coming to th...|\n",
      "|im getting on bor...|\n",
      "|im coming on bord...|\n",
      "|im getting on bor...|\n",
      "|im getting into b...|\n",
      "|So I spent a few ...|\n",
      "|So I spent a coup...|\n",
      "|So I spent a few ...|\n",
      "|So I spent a few ...|\n",
      "+--------------------+\n",
      "only showing top 10 rows\n",
      "\n"
     ]
    }
   ],
   "source": [
    "data.select(\"Text\").show(10)"
   ]
  },
  {
   "cell_type": "code",
   "execution_count": null,
   "metadata": {},
   "outputs": [
    {
     "name": "stdout",
     "output_type": "stream",
     "text": [
      "Label Mapping:\n",
      "Index 0 --> Label 'Negative'\n",
      "Index 1 --> Label 'Positive'\n",
      "Index 2 --> Label 'Neutral'\n",
      "Index 3 --> Label 'Irrelevant'\n"
     ]
    }
   ],
   "source": [
    "# Define the StringIndexer for the label column (index the labels)\n",
    "label_indexer = StringIndexer(inputCol=\"Label\", outputCol=\"Label2\")\n",
    "\n",
    "# Fit StringIndexer on data\n",
    "label_indexer_model = label_indexer.fit(data)\n",
    "data = label_indexer_model.transform(data)\n",
    "validation = label_indexer_model.transform(validation)\n",
    "\n",
    "# Extract label mapping\n",
    "label_mapping = label_indexer_model.labels\n",
    "\n",
    "# Print label mapping\n",
    "print(\"Label Mapping:\")\n",
    "for index, label in enumerate(label_mapping):\n",
    "    print(f\"Index {index} --> Label '{label}'\")"
   ]
  },
  {
   "cell_type": "code",
   "execution_count": 9,
   "metadata": {},
   "outputs": [],
   "source": [
    "def clean_text(df, inputCol=\"Text\", outputCol=\"cleaned_text\"):\n",
    "    # Remove links starting with https://, http://, www., or containing .com\n",
    "    df = df.withColumn(outputCol, regexp_replace(df[inputCol], r'https?://\\S+|www\\.\\S+|S+\\.com\\S+|youtu\\.be/\\S+', ''))\n",
    "    # Remove words starting with # or @\n",
    "    df = df.withColumn(outputCol, regexp_replace(df[outputCol], r'(@|#)\\w+', ''))\n",
    "    # Convert text to lowercase\n",
    "    df = df.withColumn(outputCol, lower(df[outputCol]))\n",
    "    # Remove non-alpha characters\n",
    "    df = df.withColumn(outputCol, regexp_replace(df[outputCol], r'[^a-zA-Z\\s]', ''))\n",
    "    \n",
    "    return df"
   ]
  },
  {
   "cell_type": "code",
   "execution_count": 10,
   "metadata": {},
   "outputs": [],
   "source": [
    "cleaned_data = clean_text(data, inputCol=\"Text\", outputCol=\"Text\")\n",
    "cleaned_validation = clean_text(validation, inputCol=\"Text\", outputCol=\"Text\")"
   ]
  },
  {
   "cell_type": "code",
   "execution_count": 11,
   "metadata": {},
   "outputs": [],
   "source": [
    "# Define tokenizer\n",
    "tokenizer = Tokenizer(inputCol=\"Text\", outputCol=\"tokens\")\n",
    "\n",
    "# Define stopwords remover\n",
    "stopwords_remover = StopWordsRemover(inputCol=\"tokens\", outputCol=\"filtered_tokens\", stopWords=stop_words)\n",
    "\n",
    "# Define CountVectorizer\n",
    "count_vectorizer = CountVectorizer(inputCol=\"filtered_tokens\", outputCol=\"features\", vocabSize=10000, minDF=5)\n",
    "\n",
    "# Define Logistic Regression\n",
    "lr = LogisticRegression(maxIter=10, labelCol=\"Label2\", featuresCol=\"features\")"
   ]
  },
  {
   "cell_type": "code",
   "execution_count": 12,
   "metadata": {},
   "outputs": [],
   "source": [
    "# create the pipeline\n",
    "pipeline = Pipeline(stages=[tokenizer, stopwords_remover, count_vectorizer, lr])\n",
    "\n",
    "# # Apply the pipeline to the data\n",
    "# model = pipeline.fit(cleaned_data)\n",
    "# model.save(\"logistic_regression_model\")\n",
    "# processed_data = model.transform(cleaned_data)\n",
    "\n",
    "# Tạo grid các giá trị tham số\n",
    "paramGrid = (ParamGridBuilder()\n",
    "             .addGrid(lr.maxIter, [10, 20, 50])\n",
    "             .addGrid(lr.regParam, [0.0, 0.1, 0.5])\n",
    "             .addGrid(lr.elasticNetParam, [0.0, 0.5, 1.0])\n",
    "             .build())\n",
    "\n",
    "# Định nghĩa evaluator\n",
    "evaluator = MulticlassClassificationEvaluator(labelCol=\"Label2\", predictionCol=\"prediction\", metricName=\"accuracy\")\n",
    "\n",
    "# Tạo CrossValidator\n",
    "crossval = CrossValidator(estimator=pipeline,\n",
    "                         estimatorParamMaps=paramGrid,\n",
    "                         evaluator=evaluator,\n",
    "                         numFolds=5)\n",
    "\n",
    "# Huấn luyện với grid search\n",
    "cvModel = crossval.fit(cleaned_data)\n",
    "\n",
    "cvModel.bestModel.save(\"LR_best_model\")\n",
    "# Dự đoán trên tập validation\n",
    "processed_data = cvModel.transform(cleaned_validation)"
   ]
  },
  {
   "cell_type": "code",
   "execution_count": 13,
   "metadata": {},
   "outputs": [
    {
     "name": "stdout",
     "output_type": "stream",
     "text": [
      "root\n",
      " |-- id: string (nullable = true)\n",
      " |-- Company: string (nullable = true)\n",
      " |-- Label: string (nullable = true)\n",
      " |-- Text: string (nullable = true)\n",
      " |-- Label2: double (nullable = false)\n",
      " |-- tokens: array (nullable = true)\n",
      " |    |-- element: string (containsNull = true)\n",
      " |-- filtered_tokens: array (nullable = true)\n",
      " |    |-- element: string (containsNull = true)\n",
      " |-- features: vector (nullable = true)\n",
      " |-- rawPrediction: vector (nullable = true)\n",
      " |-- probability: vector (nullable = true)\n",
      " |-- prediction: double (nullable = false)\n",
      "\n"
     ]
    }
   ],
   "source": [
    "processed_data.printSchema()"
   ]
  },
  {
   "cell_type": "code",
   "execution_count": 14,
   "metadata": {},
   "outputs": [
    {
     "name": "stdout",
     "output_type": "stream",
     "text": [
      "+--------------------+------+----------+\n",
      "|                Text|Label2|prediction|\n",
      "+--------------------+------+----------+\n",
      "|i mentioned on fa...|   3.0|       3.0|\n",
      "|bbc news  amazon ...|   2.0|       2.0|\n",
      "| why do i pay for...|   0.0|       0.0|\n",
      "|csgo matchmaking ...|   0.0|       0.0|\n",
      "|now the president...|   2.0|       2.0|\n",
      "|hi  ive had madel...|   0.0|       0.0|\n",
      "|         thank you  |   1.0|       1.0|\n",
      "|rocket league sea...|   1.0|       1.0|\n",
      "|my ass still knee...|   1.0|       1.0|\n",
      "|fix it jesus  ple...|   0.0|       0.0|\n",
      "|the professional ...|   1.0|       1.0|\n",
      "|itching to assass...|   1.0|       1.0|\n",
      "| hey fred comcast...|   0.0|       0.0|\n",
      "|csgo wingman im s...|   2.0|       2.0|\n",
      "| game sucks down ...|   0.0|       0.0|\n",
      "|congrats to the n...|   1.0|       1.0|\n",
      "|    yeah and its fun|   1.0|       1.0|\n",
      "|       fuck my life |   0.0|       0.0|\n",
      "|happy birthday re...|   1.0|       1.0|\n",
      "|what does that sa...|   0.0|       0.0|\n",
      "+--------------------+------+----------+\n",
      "only showing top 20 rows\n",
      "\n"
     ]
    }
   ],
   "source": [
    "processed_data.select(\"Text\", \"Label2\", \"prediction\").show()"
   ]
  },
  {
   "cell_type": "code",
   "execution_count": 15,
   "metadata": {},
   "outputs": [
    {
     "name": "stdout",
     "output_type": "stream",
     "text": [
      "+-----+--------------------+----------+--------------------+------+\n",
      "|   id|             Company|     Label|                Text|Label2|\n",
      "+-----+--------------------+----------+--------------------+------+\n",
      "| 3364|            Facebook|Irrelevant|i mentioned on fa...|   3.0|\n",
      "|  352|              Amazon|   Neutral|bbc news  amazon ...|   2.0|\n",
      "| 8312|           Microsoft|  Negative| why do i pay for...|   0.0|\n",
      "| 4371|               CS-GO|  Negative|csgo matchmaking ...|   0.0|\n",
      "| 4433|              Google|   Neutral|now the president...|   2.0|\n",
      "| 6273|                FIFA|  Negative|hi  ive had madel...|   0.0|\n",
      "| 7925|           MaddenNFL|  Positive|         thank you  |   1.0|\n",
      "|11332|TomClancysRainbowSix|  Positive|rocket league sea...|   1.0|\n",
      "| 1107|      AssassinsCreed|  Positive|my ass still knee...|   1.0|\n",
      "| 2069|          CallOfDuty|  Negative|fix it jesus  ple...|   0.0|\n",
      "+-----+--------------------+----------+--------------------+------+\n",
      "only showing top 10 rows\n",
      "\n"
     ]
    }
   ],
   "source": [
    "cleaned_validation.show(10)"
   ]
  },
  {
   "cell_type": "code",
   "execution_count": 16,
   "metadata": {},
   "outputs": [
    {
     "name": "stdout",
     "output_type": "stream",
     "text": [
      "+-----+--------------------+----------+------+\n",
      "|   id|                Text|prediction|Label2|\n",
      "+-----+--------------------+----------+------+\n",
      "| 3364|i mentioned on fa...|       3.0|   3.0|\n",
      "|  352|bbc news  amazon ...|       2.0|   2.0|\n",
      "| 8312| why do i pay for...|       0.0|   0.0|\n",
      "| 4371|csgo matchmaking ...|       0.0|   0.0|\n",
      "| 4433|now the president...|       2.0|   2.0|\n",
      "| 6273|hi  ive had madel...|       0.0|   0.0|\n",
      "| 7925|         thank you  |       1.0|   1.0|\n",
      "|11332|rocket league sea...|       1.0|   1.0|\n",
      "| 1107|my ass still knee...|       1.0|   1.0|\n",
      "| 2069|fix it jesus  ple...|       0.0|   0.0|\n",
      "| 3185|the professional ...|       1.0|   1.0|\n",
      "| 1172|itching to assass...|       1.0|   1.0|\n",
      "|11783| hey fred comcast...|       0.0|   0.0|\n",
      "| 4286|csgo wingman im s...|       2.0|   2.0|\n",
      "| 8431| game sucks down ...|       0.0|   0.0|\n",
      "| 9135|congrats to the n...|       1.0|   1.0|\n",
      "| 4822|    yeah and its fun|       1.0|   1.0|\n",
      "| 3068|       fuck my life |       0.0|   0.0|\n",
      "|10537|happy birthday re...|       1.0|   1.0|\n",
      "| 8056|what does that sa...|       0.0|   0.0|\n",
      "+-----+--------------------+----------+------+\n",
      "only showing top 20 rows\n",
      "\n"
     ]
    }
   ],
   "source": [
    "# Apply the pipeline to the new data\n",
    "processed_validation = cvModel.transform(cleaned_validation)\n",
    "\n",
    "# Optionally, you can select specific columns for evaluation\n",
    "selected_data = processed_validation.select(\"id\", \"Text\", \"prediction\", \"Label2\")\n",
    "\n",
    "# Show the processed data\n",
    "selected_data.show()"
   ]
  },
  {
   "cell_type": "code",
   "execution_count": 17,
   "metadata": {},
   "outputs": [
    {
     "name": "stdout",
     "output_type": "stream",
     "text": [
      "Accuracy: 0.878\n",
      "Precision: 0.8815134401847649\n",
      "Recall: 0.878\n",
      "F1 Score: 0.877402932679661\n",
      "Confusion Matrix:\n"
     ]
    },
    {
     "data": {
      "image/png": "[encoded data removed]",
      "text/plain": [
       "<Figure size 800x600 with 2 Axes>"
      ]
     },
     "metadata": {},
     "output_type": "display_data"
    }
   ],
   "source": [
    "# Evaluate accuracy\n",
    "evaluator = MulticlassClassificationEvaluator(labelCol=\"Label2\", predictionCol=\"prediction\")\n",
    "accuracy = evaluator.evaluate(processed_validation, {evaluator.metricName: \"accuracy\"})\n",
    "precision = evaluator.evaluate(processed_validation, {evaluator.metricName: \"weightedPrecision\"})\n",
    "recall = evaluator.evaluate(processed_validation, {evaluator.metricName: \"weightedRecall\"})\n",
    "f1_score = evaluator.evaluate(processed_validation, {evaluator.metricName: \"f1\"})\n",
    "print(\"Accuracy:\", accuracy)\n",
    "print(\"Precision:\", precision)\n",
    "print(\"Recall:\", recall)\n",
    "print(\"F1 Score:\", f1_score)\n",
    "\n",
    "# --- Create a confusion matrix\n",
    "\n",
    "# Convert Spark DataFrame to Pandas DataFrame\n",
    "prediction_and_label_pd = processed_validation.select(\"prediction\", \"Label2\").toPandas()\n",
    "\n",
    "# Extract predicted labels and true labels\n",
    "predicted_labels = prediction_and_label_pd[\"prediction\"].tolist()\n",
    "true_labels = prediction_and_label_pd[\"Label2\"].tolist()\n",
    "\n",
    "# Create confusion matrix\n",
    "conf_matrix = confusion_matrix(true_labels, predicted_labels)\n",
    "print(\"Confusion Matrix:\")\n",
    "# Plot confusion matrix using Seaborn\n",
    "plt.figure(figsize=(8, 6))\n",
    "sns.heatmap(conf_matrix, annot=True, fmt=\"d\", cmap=\"Blues\", xticklabels=True, yticklabels=True)\n",
    "plt.xlabel(\"Predicted Labels\")\n",
    "plt.ylabel(\"True Labels\")\n",
    "plt.title(\"Confusion Matrix\")\n",
    "plt.show()"
   ]
  },
  {
   "cell_type": "code",
   "execution_count": 18,
   "metadata": {
    "id": "2hbV0FcspPsK"
   },
   "outputs": [],
   "source": [
    "# Stop SparkSession\n",
    "spark.stop()"
   ]
  }
 ],
 "metadata": {
  "colab": {
   "provenance": []
  },
  "kernelspec": {
   "display_name": ".venv",
   "language": "python",
   "name": "python3"
  },
  "language_info": {
   "codemirror_mode": {
    "name": "ipython",
    "version": 3
   },
   "file_extension": ".py",
   "mimetype": "text/x-python",
   "name": "python",
   "nbconvert_exporter": "python",
   "pygments_lexer": "ipython3",
   "version": "3.11.8"
  }
 },
 "nbformat": 4,
 "nbformat_minor": 4
}
